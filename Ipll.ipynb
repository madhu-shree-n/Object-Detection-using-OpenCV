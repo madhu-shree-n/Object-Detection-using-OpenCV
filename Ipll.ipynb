{
 "cells": [
  {
   "cell_type": "code",
   "execution_count": 2,
   "id": "669c6e9c",
   "metadata": {},
   "outputs": [],
   "source": [
    "from PIL import Image"
   ]
  },
  {
   "cell_type": "code",
   "execution_count": 3,
   "id": "68b485f6",
   "metadata": {},
   "outputs": [],
   "source": [
    "from PIL import Image \n",
    "import os \n",
    "import PIL \n",
    "import glob"
   ]
  },
  {
   "cell_type": "code",
   "execution_count": 4,
   "id": "55038b61",
   "metadata": {},
   "outputs": [],
   "source": [
    "#Opening the original image\n",
    "image1=Image.open('fish11.jpg')\n",
    "image1.show()"
   ]
  },
  {
   "cell_type": "code",
   "execution_count": 5,
   "id": "b636b43b",
   "metadata": {},
   "outputs": [
    {
     "name": "stdout",
     "output_type": "stream",
     "text": [
      "(474, 266)\n"
     ]
    }
   ],
   "source": [
    "#Resizing the original image using thumbnail() function so that no squishing or streching takes place\n",
    "image1.thumbnail((800, 800))\n",
    "image1.show()\n",
    "print(image1.size)"
   ]
  },
  {
   "cell_type": "code",
   "execution_count": 6,
   "id": "b723b3b0",
   "metadata": {},
   "outputs": [],
   "source": [
    "#converting the resized image to grayscale\n",
    "imggray = image1.convert('LA')\n",
    "imggray.show()"
   ]
  },
  {
   "cell_type": "code",
   "execution_count": 7,
   "id": "e9a4e447",
   "metadata": {},
   "outputs": [],
   "source": [
    "#we split an RGB image into individual bands, swap them, and then merge them\n",
    "red, green, blue = image1.split() #splits a multiband image into individual ones\n",
    "new_image = Image.merge(\"RGB\", (green, red, blue))\n",
    "new_image.save(\"FISH.jpg\",\"JPEG\")\n",
    "#merges single band images into multiple ones\n",
    "#print(new_image.mode) # Output: RGB\n",
    "new_image.show()"
   ]
  },
  {
   "cell_type": "code",
   "execution_count": 8,
   "id": "392ca3e0",
   "metadata": {},
   "outputs": [],
   "source": [
    "from PIL import Image, ImageEnhance\n",
    "\n",
    "contrast = ImageEnhance.Contrast(new_image)\n",
    "con = contrast.enhance(1.5)\n",
    "\n",
    "con.show()"
   ]
  },
  {
   "cell_type": "code",
   "execution_count": 9,
   "id": "dc855cd7",
   "metadata": {},
   "outputs": [],
   "source": [
    "#increasing the colour of the image\n",
    "import cv2\n",
    "color = ImageEnhance.Color(con)\n",
    "# works even for a negative value\n",
    "co = color.enhance(1.5)\n",
    "co.show()\n",
    "co.save(\"FISH.jpg\",\"JPEG\")"
   ]
  },
  {
   "cell_type": "code",
   "execution_count": 10,
   "id": "1cadc8d1",
   "metadata": {},
   "outputs": [],
   "source": [
    "# increasing the brightness\n",
    "brightness = ImageEnhance.Brightness(co)\n",
    "bi = brightness.enhance(2.0)\n",
    "bi.show()"
   ]
  },
  {
   "cell_type": "code",
   "execution_count": 11,
   "id": "fdfc0db2",
   "metadata": {},
   "outputs": [],
   "source": [
    "# increases the sharpness\n",
    "sharpness = ImageEnhance.Sharpness(bi)\n",
    "sh = sharpness.enhance(10)\n",
    "sh.show()\n",
    "sh.save(\"FISH.jpg\",\"JPEG\")"
   ]
  },
  {
   "cell_type": "code",
   "execution_count": 12,
   "id": "d277b480",
   "metadata": {},
   "outputs": [
    {
     "data": {
      "text/plain": [
       "True"
      ]
     },
     "execution_count": 12,
     "metadata": {},
     "output_type": "execute_result"
    }
   ],
   "source": [
    "#the Canny() method of cv2 which implements the Canny edge detector. The Canny edge detector is also known as the optimal detector.\n",
    "import cv2\n",
    "img = cv2.imread(\"FISH.jpg\")\n",
    "edge_img = cv2.Canny(img,100,200)\n",
    "cv2.imshow(\"Detected Edges\", edge_img)\n",
    "cv2.waitKey(0)\n",
    "#edge_img.save(\"FISH.jpg\",\"JPEG\")\n",
    "cv2.imwrite(\"FISH.jpg\",edge_img)"
   ]
  },
  {
   "cell_type": "code",
   "execution_count": 13,
   "id": "4d33e341",
   "metadata": {},
   "outputs": [],
   "source": [
    "import cv2\n",
    "\n",
    "# Load the image\n",
    "img = cv2.imread(\"fish11.jpg\")\n",
    "\n",
    "# Convert to grayscale\n",
    "gray = cv2.cvtColor(img, cv2.COLOR_BGR2GRAY)\n",
    "\n",
    "# Apply median blur to remove noise\n",
    "gray = cv2.medianBlur(gray, 5)\n",
    "\n",
    "# Apply adaptive thresholding to binarize the image\n",
    "thresh = cv2.adaptiveThreshold(gray, 255, cv2.ADAPTIVE_THRESH_GAUSSIAN_C, cv2.THRESH_BINARY_INV, 11, 2)\n",
    "\n",
    "# Find contours\n",
    "contours, hierarchy = cv2.findContours(thresh, cv2.RETR_EXTERNAL, cv2.CHAIN_APPROX_SIMPLE)\n",
    "\n",
    "# Loop over contours\n",
    "for cnt in contours:\n",
    "    # Get contour area\n",
    "    area = cv2.contourArea(cnt)\n",
    "    \n",
    "    # Check if area is greater than a certain threshold to filter out noise\n",
    "    if area > 100:\n",
    "        # Draw bounding rectangle around contour\n",
    "        x, y, w, h = cv2.boundingRect(cnt)\n",
    "        cv2.rectangle(img, (x, y), (x + w, y + h), (0, 255, 0), 2)\n",
    "\n",
    "# Display the image with fish detection\n",
    "cv2.imshow(\"Fish Detection\", img)\n",
    "cv2.waitKey(0)\n",
    "cv2.destroyAllWindows()\n"
   ]
  },
  {
   "cell_type": "code",
   "execution_count": 14,
   "id": "50211fa3",
   "metadata": {},
   "outputs": [],
   "source": [
    "import cv2\n",
    "import numpy as np\n",
    "\n",
    "# Load the image\n",
    "img = cv2.imread('fish11.jpg')\n",
    "\n",
    "# Convert the image to grayscale\n",
    "gray = cv2.cvtColor(img, cv2.COLOR_BGR2GRAY)\n",
    "\n",
    "# Apply Gaussian smoothing\n",
    "blur = cv2.GaussianBlur(gray, (5,5), 0)\n",
    "\n",
    "# Perform adaptive thresholding\n",
    "thresh = cv2.adaptiveThreshold(blur, 255, cv2.ADAPTIVE_THRESH_MEAN_C, cv2.THRESH_BINARY_INV, 11, 2)\n",
    "\n",
    "# Find contours\n",
    "contours, hierarchy = cv2.findContours(thresh, cv2.RETR_EXTERNAL, cv2.CHAIN_APPROX_SIMPLE)\n",
    "\n",
    "# Classify the objects and draw bounding boxes\n",
    "for cnt in contours:\n",
    "    area = cv2.contourArea(cnt)\n",
    "    perimeter = cv2.arcLength(cnt, True)\n",
    "    \n",
    "    if area > 1000 and perimeter > 100:\n",
    "        # This is likely a fish object\n",
    "        x,y,w,h = cv2.boundingRect(cnt)\n",
    "        cv2.rectangle(img,(x,y),(x+w,y+h),(0,255,0),2)\n",
    "\n",
    "# Display the result\n",
    "cv2.imshow('Result', img)\n",
    "cv2.waitKey(0)\n",
    "cv2.destroyAllWindows()\n"
   ]
  },
  {
   "cell_type": "code",
   "execution_count": 1,
   "id": "78d7a64f",
   "metadata": {},
   "outputs": [],
   "source": [
    "import cv2\n",
    "import numpy as np\n",
    "\n",
    "# Load the image\n",
    "img = cv2.imread('fish11.jpg')\n",
    "\n",
    "# Convert the image to grayscale\n",
    "gray = cv2.cvtColor(img, cv2.COLOR_BGR2GRAY)\n",
    "\n",
    "# Apply Gaussian smoothing\n",
    "blur = cv2.GaussianBlur(gray, (5,5), 0)\n",
    "\n",
    "# Perform adaptive thresholding\n",
    "thresh = cv2.adaptiveThreshold(blur, 255, cv2.ADAPTIVE_THRESH_MEAN_C, cv2.THRESH_BINARY_INV, 11, 2)\n",
    "\n",
    "# Find contours\n",
    "contours, hierarchy = cv2.findContours(thresh, cv2.RETR_EXTERNAL, cv2.CHAIN_APPROX_SIMPLE)\n",
    "\n",
    "# Classify the objects and draw bounding boxes\n",
    "fish_count = 0\n",
    "for cnt in contours:\n",
    "    area = cv2.contourArea(cnt)\n",
    "    perimeter = cv2.arcLength(cnt, True)\n",
    "    \n",
    "    if area > 1000 and perimeter > 100:\n",
    "        # This is likely a fish object\n",
    "        x,y,w,h = cv2.boundingRect(cnt)\n",
    "        if fish_count == 0:\n",
    "            # This is the first fish object, so set the bounding box coordinates\n",
    "            bbox = (x, y, w, h)\n",
    "        else:\n",
    "            # This is not the first fish object, so expand the bounding box if necessary\n",
    "            x_min, y_min, bbox_w, bbox_h = bbox\n",
    "            x_max, y_max = x+w, y+h\n",
    "            bbox = (min(x, x_min), min(y, y_min), max(x_max, x_min+bbox_w)-min(x, x_min), max(y_max, y_min+bbox_h)-min(y, y_min))\n",
    "        fish_count += 1\n",
    "\n",
    "# Draw the bounding box\n",
    "if fish_count > 0:\n",
    "    x,y,w,h = bbox\n",
    "    cv2.rectangle(img,(x,y),(x+w,y+h),(0,255,0),2)\n",
    "\n",
    "# Display the result\n",
    "cv2.imshow('Result', img)\n",
    "cv2.waitKey(0)\n",
    "cv2.destroyAllWindows()\n"
   ]
  },
  {
   "cell_type": "code",
   "execution_count": null,
   "id": "a0d04c2c",
   "metadata": {},
   "outputs": [],
   "source": []
  }
 ],
 "metadata": {
  "kernelspec": {
   "display_name": "Python 3 (ipykernel)",
   "language": "python",
   "name": "python3"
  },
  "language_info": {
   "codemirror_mode": {
    "name": "ipython",
    "version": 3
   },
   "file_extension": ".py",
   "mimetype": "text/x-python",
   "name": "python",
   "nbconvert_exporter": "python",
   "pygments_lexer": "ipython3",
   "version": "3.9.12"
  }
 },
 "nbformat": 4,
 "nbformat_minor": 5
}
